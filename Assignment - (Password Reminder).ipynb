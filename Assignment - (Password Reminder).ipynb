{
 "cells": [
  {
   "cell_type": "code",
   "execution_count": null,
   "id": "7f124422",
   "metadata": {},
   "outputs": [],
   "source": [
    "joseph_password = \"W@12\"\n",
    "\n",
    "name = input(\"Please enter your name: \").title()\n",
    "\n",
    "if name == \"Joseph\":\n",
    "    print(\"Hello, {}! The password is :\".format (name), joseph_password)\n",
    "else:\n",
    "    print(\"Hello, {}! See you later.\".format (name))"
   ]
  }
 ],
 "metadata": {
  "kernelspec": {
   "display_name": "Python 3",
   "language": "python",
   "name": "python3"
  },
  "language_info": {
   "codemirror_mode": {
    "name": "ipython",
    "version": 3
   },
   "file_extension": ".py",
   "mimetype": "text/x-python",
   "name": "python",
   "nbconvert_exporter": "python",
   "pygments_lexer": "ipython3",
   "version": "3.8.8"
  }
 },
 "nbformat": 4,
 "nbformat_minor": 5
}
