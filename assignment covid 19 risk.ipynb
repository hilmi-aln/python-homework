{
 "cells": [
  {
   "cell_type": "code",
   "execution_count": 20,
   "id": "5cf9f5e3",
   "metadata": {},
   "outputs": [
    {
     "name": "stdout",
     "output_type": "stream",
     "text": [
      "Are you a cigarette addict older than 75 years old? (True/False): false\n",
      "Do you have a severe chronic disease? (True/False): true\n",
      "Is your immune system too weak? (True/False): true\n",
      "You are in risky group\n"
     ]
    }
   ],
   "source": [
    "age =  input(\"Are you a cigarette addict older than 75 years old? (True/False): \").title()\n",
    "chronic =  input(\"Do you have a severe chronic disease? (True/False): \").title()\n",
    "immune = input(\"Is your immune system too weak? (True/False): \").title()\n",
    "\n",
    "if age==\"True\" or chronic==\"True\" or immune==\"True\":\n",
    "    print(\"You are in risky group\")\n",
    "else:\n",
    "    print(\"You are not in risky group\")"
   ]
  },
  {
   "cell_type": "code",
   "execution_count": null,
   "id": "65fe73fd",
   "metadata": {},
   "outputs": [],
   "source": []
  }
 ],
 "metadata": {
  "kernelspec": {
   "display_name": "Python 3",
   "language": "python",
   "name": "python3"
  },
  "language_info": {
   "codemirror_mode": {
    "name": "ipython",
    "version": 3
   },
   "file_extension": ".py",
   "mimetype": "text/x-python",
   "name": "python",
   "nbconvert_exporter": "python",
   "pygments_lexer": "ipython3",
   "version": "3.8.8"
  }
 },
 "nbformat": 4,
 "nbformat_minor": 5
}
