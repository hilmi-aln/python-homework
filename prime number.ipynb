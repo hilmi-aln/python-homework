{
 "cells": [
  {
   "cell_type": "code",
   "execution_count": 30,
   "id": "9919e734",
   "metadata": {},
   "outputs": [
    {
     "name": "stdout",
     "output_type": "stream",
     "text": [
      "Please enter a number : 7\n",
      "asal\n"
     ]
    }
   ],
   "source": [
    "while True:\n",
    "    num = input(\"Please enter a number : \")\n",
    "    if num.isdigit() == False:\n",
    "        print(\"Wrong entery! Please enter a number!\")\n",
    "    else:\n",
    "        num = int(num)\n",
    "        empty_list = list(range(2,num))\n",
    "        for i in empty_list:\n",
    "            if num % i == 0:\n",
    "                print(\"değil\")\n",
    "                break\n",
    "            else:\n",
    "                print(\"asal\")\n",
    "                break\n",
    "        break"
   ]
  },
  {
   "cell_type": "code",
   "execution_count": null,
   "id": "18fdcf63",
   "metadata": {},
   "outputs": [],
   "source": []
  }
 ],
 "metadata": {
  "kernelspec": {
   "display_name": "Python 3",
   "language": "python",
   "name": "python3"
  },
  "language_info": {
   "codemirror_mode": {
    "name": "ipython",
    "version": 3
   },
   "file_extension": ".py",
   "mimetype": "text/x-python",
   "name": "python",
   "nbconvert_exporter": "python",
   "pygments_lexer": "ipython3",
   "version": "3.8.8"
  }
 },
 "nbformat": 4,
 "nbformat_minor": 5
}
