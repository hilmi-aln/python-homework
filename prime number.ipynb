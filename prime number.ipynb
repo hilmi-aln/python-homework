{
 "cells": [
  {
   "cell_type": "code",
   "execution_count": 2,
   "id": "9919e734",
   "metadata": {},
   "outputs": [
    {
     "name": "stdout",
     "output_type": "stream",
     "text": [
      "Please enter a number : 1\n",
      "This is a prime number.\n"
     ]
    }
   ],
   "source": [
    "while True:\n",
    "    num = input(\"Please enter a number : \")\n",
    "    if num.isdigit() == False:\n",
    "        print(\"Wrong entery! Please enter a number!\")\n",
    "    else:\n",
    "        num = int(num)\n",
    "        empty_list = list(range(2,num))\n",
    "        for i in empty_list:\n",
    "            if num % i == 0:\n",
    "                print(\"This is not a prime number.\")\n",
    "                break\n",
    "        else:\n",
    "            print(\"This is a prime number.\")\n",
    "            \n",
    "        break"
   ]
  },
  {
   "cell_type": "code",
   "execution_count": null,
   "id": "18fdcf63",
   "metadata": {},
   "outputs": [],
   "source": [
    "n = int(input(\"Enter a positive number to check if it is a Prime Number\"))\n",
    "counter = 0\n",
    "\n",
    "for i in range(1, n+1) :\n",
    "    if n % i == 0 :\n",
    "        counter += 1\n",
    "        \n",
    "if (n == 0) or (n == 1) or (counter >= 3) :\n",
    "    print(n, \" is not a Prime Number\")\n",
    "    \n",
    "else :\n",
    "    print(n, \" is a Prime Number\")"
   ]
  }
 ],
 "metadata": {
  "kernelspec": {
   "display_name": "Python 3",
   "language": "python",
   "name": "python3"
  },
  "language_info": {
   "codemirror_mode": {
    "name": "ipython",
    "version": 3
   },
   "file_extension": ".py",
   "mimetype": "text/x-python",
   "name": "python",
   "nbconvert_exporter": "python",
   "pygments_lexer": "ipython3",
   "version": "3.8.8"
  }
 },
 "nbformat": 4,
 "nbformat_minor": 5
}
