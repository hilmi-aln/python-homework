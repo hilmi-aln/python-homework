{
 "cells": [
  {
   "cell_type": "code",
   "execution_count": 1,
   "id": "0f21b9a6",
   "metadata": {},
   "outputs": [
    {
     "name": "stdout",
     "output_type": "stream",
     "text": [
      "Please enter a positive integer number: 93084\n",
      "93084 is an amstrong number\n"
     ]
    }
   ],
   "source": [
    "while True:\n",
    "    num = input(\"Please enter a positive integer number: \")\n",
    "    if num.isnumeric() == False:\n",
    "        print(\"Enter a wrong input! Try again.\")\n",
    "    else:\n",
    "        length = len(num)\n",
    "\n",
    "        sum = 0\n",
    "        for i in range(length):\n",
    "            sum = sum + int(num[i]) ** length\n",
    "            \n",
    "        if (sum == int(num)):\n",
    "            print(\"{} is an amstrong number\".format(num))\n",
    "        else:\n",
    "            print(\"{} is not an amstrong number\".format(num))\n",
    "        break\n"
   ]
  },
  {
   "cell_type": "code",
   "execution_count": null,
   "id": "3bf91800",
   "metadata": {},
   "outputs": [],
   "source": []
  },
  {
   "cell_type": "code",
   "execution_count": null,
   "id": "410e2ea8",
   "metadata": {},
   "outputs": [],
   "source": []
  }
 ],
 "metadata": {
  "kernelspec": {
   "display_name": "Python 3",
   "language": "python",
   "name": "python3"
  },
  "language_info": {
   "codemirror_mode": {
    "name": "ipython",
    "version": 3
   },
   "file_extension": ".py",
   "mimetype": "text/x-python",
   "name": "python",
   "nbconvert_exporter": "python",
   "pygments_lexer": "ipython3",
   "version": "3.8.8"
  }
 },
 "nbformat": 4,
 "nbformat_minor": 5
}
