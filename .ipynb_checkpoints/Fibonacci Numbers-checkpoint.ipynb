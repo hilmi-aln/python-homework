{
 "cells": [
  {
   "cell_type": "code",
   "execution_count": 1,
   "id": "d3b456fe",
   "metadata": {},
   "outputs": [
    {
     "name": "stdout",
     "output_type": "stream",
     "text": [
      "[1, 1, 2]\n"
     ]
    }
   ],
   "source": [
    "empty_list = []\n",
    "i=0\n",
    "while len(empty_list) < 2:\n",
    "    empty_list.append(1)\n",
    "  \n",
    "    while len(empty_list) >= 2:\n",
    "        x = empty_list[i+1] + empty_list[i]\n",
    "        empty_list.append(x)\n",
    "        i=i+1\n",
    "        empty_list.sort()\n",
    "        if empty_list[-1] <= 55:\n",
    "            break\n",
    "print(empty_list)\n",
    "    \n",
    "    \n",
    "\n",
    "    \n",
    "        "
   ]
  },
  {
   "cell_type": "code",
   "execution_count": null,
   "id": "d4e24903",
   "metadata": {},
   "outputs": [],
   "source": []
  }
 ],
 "metadata": {
  "kernelspec": {
   "display_name": "Python 3",
   "language": "python",
   "name": "python3"
  },
  "language_info": {
   "codemirror_mode": {
    "name": "ipython",
    "version": 3
   },
   "file_extension": ".py",
   "mimetype": "text/x-python",
   "name": "python",
   "nbconvert_exporter": "python",
   "pygments_lexer": "ipython3",
   "version": "3.8.8"
  }
 },
 "nbformat": 4,
 "nbformat_minor": 5
}
